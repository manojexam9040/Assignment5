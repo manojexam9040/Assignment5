{
 "cells": [
  {
   "cell_type": "code",
   "execution_count": 1,
   "id": "97016788",
   "metadata": {},
   "outputs": [
    {
     "name": "stdout",
     "output_type": "stream",
     "text": [
      "Sum of squares = 35\n"
     ]
    }
   ],
   "source": [
    "lst=[1,3,5]\n",
    "sum=0\n",
    "for i in lst:\n",
    "    sum=sum+(i*i)\n",
    "print(\"Sum of squares =\",sum)"
   ]
  },
  {
   "cell_type": "code",
   "execution_count": null,
   "id": "d16ce305",
   "metadata": {},
   "outputs": [
    {
     "name": "stdout",
     "output_type": "stream",
     "text": [
      "Enter Two Numbers: 10\n",
      "94\n",
      "\n",
      "10 + 94 = 104\n",
      "10 - 94 = -84\n",
      "10 * 94 = 940\n",
      "10 / 94 = 0.10638297872340426\n"
     ]
    }
   ],
   "source": [
    "class CodesCracker:\n",
    "    def aOperation(self, a, b, c):\n",
    "        if c=='+':\n",
    "            return a+b\n",
    "        elif c=='-':\n",
    "            return a-b\n",
    "        elif c=='*':\n",
    "            return a*b\n",
    "        elif c=='/':\n",
    "            return a/b\n",
    "        else:\n",
    "            return 'i'\n",
    "\n",
    "print(\"Enter Two Numbers: \", end=\"\")\n",
    "nOne = int(input())\n",
    "nTwo = int(input())\n",
    "print(\"\\n\" +str(nOne)+ \" + \" +str(nTwo)+ \" = \" +str(nOne+nTwo))\n",
    "print(str(nOne)+ \" - \" +str(nTwo)+ \" = \" +str(nOne-nTwo))\n",
    "print(str(nOne)+ \" * \" +str(nTwo)+ \" = \" +str(nOne*nTwo))\n",
    "print(str(nOne)+ \" / \" +str(nTwo)+ \" = \" +str(nOne/nTwo))\n",
    "ch = input()\n",
    "\n",
    "cobj = CodesCracker()\n",
    "res = cobj.aOperation(nOne, nTwo, ch)\n",
    "if res=='i':\n",
    "    print(\"\\nInvalid Operator!\")\n",
    "else:\n",
    "    print(\"\\nResult =\", res)"
   ]
  },
  {
   "cell_type": "code",
   "execution_count": 1,
   "id": "1b41c5de",
   "metadata": {},
   "outputs": [
    {
     "name": "stdout",
     "output_type": "stream",
     "text": [
      "Enter Roll Number : 10\n",
      "Enter Name : raja\n",
      "Result : \n",
      "10 raja\n"
     ]
    }
   ],
   "source": [
    "class Student:\n",
    "    def getStudentDetails(self):\n",
    "        self.rollno=input(\"Enter Roll Number : \")\n",
    "        self.name = input(\"Enter Name : \")\n",
    "\n",
    "    def printResult(self):\n",
    "        print(self.rollno,self.name)\n",
    "\n",
    "S1=Student()\n",
    "S1.getStudentDetails()\n",
    "\n",
    "print(\"Result : \")\n",
    "S1.printResult()"
   ]
  },
  {
   "cell_type": "code",
   "execution_count": null,
   "id": "0bcb03d5",
   "metadata": {},
   "outputs": [],
   "source": []
  },
  {
   "cell_type": "code",
   "execution_count": 2,
   "id": "6deeecc0",
   "metadata": {},
   "outputs": [
    {
     "name": "stdout",
     "output_type": "stream",
     "text": [
      "Hello!!! Welcome to the Deposit & Withdrawal Machine\n",
      "Enter amount to be Deposited: 1000\n",
      "\n",
      " Amount Deposited: 1000.0\n",
      "Enter amount to be Withdrawn: 500\n",
      "\n",
      " You Withdrew: 500.0\n",
      "\n",
      " Net Available Balance= 500.0\n"
     ]
    }
   ],
   "source": [
    "class Bank_Account:\n",
    "    def __init__(self):\n",
    "        self.balance=0\n",
    "        print(\"Hello!!! Welcome to the Deposit & Withdrawal Machine\")\n",
    " \n",
    "    def deposit(self):\n",
    "        amount=float(input(\"Enter amount to be Deposited: \"))\n",
    "        self.balance += amount\n",
    "        \n",
    "        print(\"\\n Amount Deposited:\",amount)\n",
    " \n",
    "    def withdraw(self):\n",
    "        amount = float(input(\"Enter amount to be Withdrawn: \"))\n",
    "        if self.balance>=amount:\n",
    "            self.balance-=amount\n",
    "            print(\"\\n You Withdrew:\", amount)\n",
    "        else:\n",
    "            print(\"\\n Insufficient balance  \")\n",
    " \n",
    "    def display(self):\n",
    "        print(\"\\n Net Available Balance=\",self.balance)\n",
    " \n",
    "\n",
    "s = Bank_Account()\n",
    "  \n",
    "s.deposit()\n",
    "s.withdraw()\n",
    "s.display()"
   ]
  },
  {
   "cell_type": "code",
   "execution_count": null,
   "id": "a39c3736",
   "metadata": {},
   "outputs": [],
   "source": []
  }
 ],
 "metadata": {
  "kernelspec": {
   "display_name": "Python 3 (ipykernel)",
   "language": "python",
   "name": "python3"
  },
  "language_info": {
   "codemirror_mode": {
    "name": "ipython",
    "version": 3
   },
   "file_extension": ".py",
   "mimetype": "text/x-python",
   "name": "python",
   "nbconvert_exporter": "python",
   "pygments_lexer": "ipython3",
   "version": "3.9.12"
  }
 },
 "nbformat": 4,
 "nbformat_minor": 5
}
